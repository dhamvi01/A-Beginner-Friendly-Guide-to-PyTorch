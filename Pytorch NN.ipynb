{
  "nbformat": 4,
  "nbformat_minor": 0,
  "metadata": {
    "colab": {
      "name": "Untitled123.ipynb",
      "provenance": [],
      "collapsed_sections": []
    },
    "kernelspec": {
      "name": "python3",
      "display_name": "Python 3"
    }
  },
  "cells": [
    {
      "cell_type": "markdown",
      "metadata": {
        "id": "mrmoF7GiFD9i",
        "colab_type": "text"
      },
      "source": [
        "## create tensor and numpy array"
      ]
    },
    {
      "cell_type": "code",
      "metadata": {
        "id": "HTjIM5TeEUk0",
        "colab_type": "code",
        "colab": {}
      },
      "source": [
        "import numpy as np\n",
        "import torch"
      ],
      "execution_count": 0,
      "outputs": []
    },
    {
      "cell_type": "code",
      "metadata": {
        "id": "OmWB2pi5EbWV",
        "colab_type": "code",
        "outputId": "2b1aac7a-7359-4010-fc5c-69d9003f17e0",
        "colab": {
          "base_uri": "https://localhost:8080/",
          "height": 84
        }
      },
      "source": [
        "a = np.array(1)\n",
        "b = torch.tensor(1)\n",
        "print(a)\n",
        "print(b)\n",
        "print(type(a))\n",
        "print(type(b))"
      ],
      "execution_count": 29,
      "outputs": [
        {
          "output_type": "stream",
          "text": [
            "1\n",
            "tensor(1)\n",
            "<class 'numpy.ndarray'>\n",
            "<class 'torch.Tensor'>\n"
          ],
          "name": "stdout"
        }
      ]
    },
    {
      "cell_type": "markdown",
      "metadata": {
        "id": "TDKl5yRpFWwe",
        "colab_type": "text"
      },
      "source": [
        "## Mathematical operations"
      ]
    },
    {
      "cell_type": "code",
      "metadata": {
        "id": "cKsyB7-WEkcE",
        "colab_type": "code",
        "outputId": "f4f195cc-7be4-4242-f4c2-c986fe7de356",
        "colab": {
          "base_uri": "https://localhost:8080/",
          "height": 101
        }
      },
      "source": [
        "a = np.array(1)\n",
        "b = np.array(2)\n",
        "print(a,b)\n",
        "print(a+b)\n",
        "print(a-b)\n",
        "print(a*b)\n",
        "print(a/b)"
      ],
      "execution_count": 30,
      "outputs": [
        {
          "output_type": "stream",
          "text": [
            "1 2\n",
            "3\n",
            "-1\n",
            "2\n",
            "0.5\n"
          ],
          "name": "stdout"
        }
      ]
    },
    {
      "cell_type": "code",
      "metadata": {
        "id": "Rmm8ZvjKFmMO",
        "colab_type": "code",
        "outputId": "6ec17653-54ce-4031-e5db-5e97a9969b81",
        "colab": {
          "base_uri": "https://localhost:8080/",
          "height": 101
        }
      },
      "source": [
        "a = torch.tensor(1)\n",
        "b = torch.tensor(2)\n",
        "print(a,b)\n",
        "print(a+b)\n",
        "print(a-b)\n",
        "print(a*b)\n",
        "print(a/b)"
      ],
      "execution_count": 31,
      "outputs": [
        {
          "output_type": "stream",
          "text": [
            "tensor(1) tensor(2)\n",
            "tensor(3)\n",
            "tensor(-1)\n",
            "tensor(2)\n",
            "tensor(0)\n"
          ],
          "name": "stdout"
        }
      ]
    },
    {
      "cell_type": "markdown",
      "metadata": {
        "id": "km5or_7yLYiN",
        "colab_type": "text"
      },
      "source": [
        "## Matrix Initialization"
      ]
    },
    {
      "cell_type": "code",
      "metadata": {
        "id": "63xZziOGGAp8",
        "colab_type": "code",
        "outputId": "776325c9-1476-440d-e576-5420363493e9",
        "colab": {
          "base_uri": "https://localhost:8080/",
          "height": 84
        }
      },
      "source": [
        "a = np.zeros((3,3))\n",
        "print(a)\n",
        "print(a.shape)"
      ],
      "execution_count": 32,
      "outputs": [
        {
          "output_type": "stream",
          "text": [
            "[[0. 0. 0.]\n",
            " [0. 0. 0.]\n",
            " [0. 0. 0.]]\n",
            "(3, 3)\n"
          ],
          "name": "stdout"
        }
      ]
    },
    {
      "cell_type": "code",
      "metadata": {
        "id": "20Yh5ralLiMl",
        "colab_type": "code",
        "outputId": "41b40620-d2fc-49b8-c6e5-9a93173280b7",
        "colab": {
          "base_uri": "https://localhost:8080/",
          "height": 84
        }
      },
      "source": [
        "a = torch.zeros(3,3)\n",
        "print(a)\n",
        "print(a.shape)"
      ],
      "execution_count": 33,
      "outputs": [
        {
          "output_type": "stream",
          "text": [
            "tensor([[0., 0., 0.],\n",
            "        [0., 0., 0.],\n",
            "        [0., 0., 0.]])\n",
            "torch.Size([3, 3])\n"
          ],
          "name": "stdout"
        }
      ]
    },
    {
      "cell_type": "code",
      "metadata": {
        "id": "x4M0wy7ALvXe",
        "colab_type": "code",
        "outputId": "87d8326b-b863-4ddc-d8f5-b4e381ff415b",
        "colab": {
          "base_uri": "https://localhost:8080/",
          "height": 67
        }
      },
      "source": [
        "a = np.random.randn(3,3)\n",
        "print(a)"
      ],
      "execution_count": 34,
      "outputs": [
        {
          "output_type": "stream",
          "text": [
            "[[ 0.0811438  -0.27519602  0.34558378]\n",
            " [ 0.01311694 -0.12339435 -1.75118382]\n",
            " [ 0.25507521 -0.30699684  0.32334483]]\n"
          ],
          "name": "stdout"
        }
      ]
    },
    {
      "cell_type": "code",
      "metadata": {
        "id": "3JJsLmMvL604",
        "colab_type": "code",
        "outputId": "8e4ffdf8-95fa-49cb-adf3-efb0868318ec",
        "colab": {
          "base_uri": "https://localhost:8080/",
          "height": 67
        }
      },
      "source": [
        "a = torch.randn(3,3)\n",
        "print(a)"
      ],
      "execution_count": 35,
      "outputs": [
        {
          "output_type": "stream",
          "text": [
            "tensor([[ 0.2480,  0.1559, -0.1607],\n",
            "        [ 0.4172,  1.0004,  0.6008],\n",
            "        [ 0.1098, -0.8411, -0.2908]])\n"
          ],
          "name": "stdout"
        }
      ]
    },
    {
      "cell_type": "markdown",
      "metadata": {
        "id": "S2cZaLPRMULg",
        "colab_type": "text"
      },
      "source": [
        "### Matrix Operations"
      ]
    },
    {
      "cell_type": "code",
      "metadata": {
        "id": "Z4TJ3MK0L-h2",
        "colab_type": "code",
        "outputId": "6fd2b2ae-a2e3-45ba-b448-a8c392b483d7",
        "colab": {
          "base_uri": "https://localhost:8080/",
          "height": 353
        }
      },
      "source": [
        "a = np.random.randn(3,3)\n",
        "b = np.random.randn(3,3)\n",
        "print(a,b)\n",
        "print(a+b)\n",
        "print(a-b)\n",
        "print(a*b)\n",
        "print(a/b)\n",
        "print(np.transpose(a))"
      ],
      "execution_count": 36,
      "outputs": [
        {
          "output_type": "stream",
          "text": [
            "[[ 0.18542855 -0.33669337 -0.75666249]\n",
            " [ 0.87608095 -0.22289001  0.87344617]\n",
            " [-0.38544108 -0.24976049  1.90991538]] [[-0.72621517  0.25546997 -0.25973501]\n",
            " [ 0.31842906 -1.88348096  0.31448066]\n",
            " [ 0.20800256  0.02063868  0.88443762]]\n",
            "[[-0.54078662 -0.0812234  -1.0163975 ]\n",
            " [ 1.19451001 -2.10637097  1.18792683]\n",
            " [-0.17743852 -0.22912181  2.794353  ]]\n",
            "[[ 0.91164372 -0.59216334 -0.49692749]\n",
            " [ 0.55765189  1.66059095  0.55896551]\n",
            " [-0.59344363 -0.27039917  1.02547776]]\n",
            "[[-0.13466103 -0.08601505  0.19653174]\n",
            " [ 0.27896963  0.41980909  0.27468193]\n",
            " [-0.08017273 -0.00515473  1.68920101]]\n",
            "[[ -0.25533555  -1.31793719   2.91320954]\n",
            " [  2.75125943   0.1183394    2.77742414]\n",
            " [ -1.85305934 -12.10157181   2.15946873]]\n",
            "[[ 0.18542855  0.87608095 -0.38544108]\n",
            " [-0.33669337 -0.22289001 -0.24976049]\n",
            " [-0.75666249  0.87344617  1.90991538]]\n"
          ],
          "name": "stdout"
        }
      ]
    },
    {
      "cell_type": "code",
      "metadata": {
        "id": "azIk4ZWIMjIv",
        "colab_type": "code",
        "outputId": "60c2ca91-88c7-4f00-e642-007289b41478",
        "colab": {
          "base_uri": "https://localhost:8080/",
          "height": 353
        }
      },
      "source": [
        "a = torch.randn(3,3)\n",
        "b = torch.randn(3,3)\n",
        "print(a,b)\n",
        "print(a+b)\n",
        "print(a-b)\n",
        "print(a*b)\n",
        "print(a/b)\n",
        "print(torch.t(a))"
      ],
      "execution_count": 37,
      "outputs": [
        {
          "output_type": "stream",
          "text": [
            "tensor([[-0.1480, -0.9266, -1.3256],\n",
            "        [ 1.4205, -0.4190,  0.3577],\n",
            "        [-0.1508,  0.1087, -0.1135]]) tensor([[-1.3955, -1.3766, -0.0968],\n",
            "        [-0.9656,  0.2583,  0.6799],\n",
            "        [-0.3886, -0.5134, -0.1260]])\n",
            "tensor([[-1.5435, -2.3033, -1.4225],\n",
            "        [ 0.4549, -0.1607,  1.0376],\n",
            "        [-0.5394, -0.4047, -0.2395]])\n",
            "tensor([[ 1.2476,  0.4500, -1.2288],\n",
            "        [ 2.3861, -0.6774, -0.3222],\n",
            "        [ 0.2378,  0.6221,  0.0125]])\n",
            "tensor([[ 0.2065,  1.2757,  0.1283],\n",
            "        [-1.3717, -0.1082,  0.2432],\n",
            "        [ 0.0586, -0.0558,  0.0143]])\n",
            "tensor([[ 0.1060,  0.6731, 13.6938],\n",
            "        [-1.4711, -1.6219,  0.5261],\n",
            "        [ 0.3881, -0.2117,  0.9010]])\n",
            "tensor([[-0.1480,  1.4205, -0.1508],\n",
            "        [-0.9266, -0.4190,  0.1087],\n",
            "        [-1.3256,  0.3577, -0.1135]])\n"
          ],
          "name": "stdout"
        }
      ]
    },
    {
      "cell_type": "markdown",
      "metadata": {
        "id": "dYuVM0BsNUNh",
        "colab_type": "text"
      },
      "source": [
        "### Reshaping Tensors"
      ]
    },
    {
      "cell_type": "code",
      "metadata": {
        "id": "03oYndLcNAg8",
        "colab_type": "code",
        "outputId": "de7c7f37-6dd1-49a9-841b-136d66ed67a6",
        "colab": {
          "base_uri": "https://localhost:8080/",
          "height": 101
        }
      },
      "source": [
        "torch.manual_seed(2)\n",
        "a = torch.randn(3,2)\n",
        "print(a)\n",
        "print(a.shape)\n",
        "print(a.reshape(1,6))"
      ],
      "execution_count": 38,
      "outputs": [
        {
          "output_type": "stream",
          "text": [
            "tensor([[ 0.3923, -0.2236],\n",
            "        [-0.3195, -1.2050],\n",
            "        [ 1.0445, -0.6332]])\n",
            "torch.Size([3, 2])\n",
            "tensor([[ 0.3923, -0.2236, -0.3195, -1.2050,  1.0445, -0.6332]])\n"
          ],
          "name": "stdout"
        }
      ]
    },
    {
      "cell_type": "markdown",
      "metadata": {
        "id": "MmQ-qsddObA6",
        "colab_type": "text"
      },
      "source": [
        "### concat tensors"
      ]
    },
    {
      "cell_type": "code",
      "metadata": {
        "id": "CwnVablvOEqA",
        "colab_type": "code",
        "outputId": "5ba538e9-c7ed-42e3-f475-cc2547cd410c",
        "colab": {
          "base_uri": "https://localhost:8080/",
          "height": 118
        }
      },
      "source": [
        "a = torch.tensor([[1,2],[3,4]])\n",
        "b = torch.tensor([[5,6],[7,8]])\n",
        "print(torch.cat((a,b)))\n",
        "print(torch.cat((a,b),dim=1))"
      ],
      "execution_count": 39,
      "outputs": [
        {
          "output_type": "stream",
          "text": [
            "tensor([[1, 2],\n",
            "        [3, 4],\n",
            "        [5, 6],\n",
            "        [7, 8]])\n",
            "tensor([[1, 2, 5, 6],\n",
            "        [3, 4, 7, 8]])\n"
          ],
          "name": "stdout"
        }
      ]
    },
    {
      "cell_type": "code",
      "metadata": {
        "id": "FQUH9LRGO7CV",
        "colab_type": "code",
        "outputId": "3c7d100d-ca30-4d36-bc39-23abc5ad5703",
        "colab": {
          "base_uri": "https://localhost:8080/",
          "height": 34
        }
      },
      "source": [
        "a = np.array([1,2,3,4])\n",
        "b = torch.from_numpy(a)\n",
        "print(b)"
      ],
      "execution_count": 40,
      "outputs": [
        {
          "output_type": "stream",
          "text": [
            "tensor([1, 2, 3, 4])\n"
          ],
          "name": "stdout"
        }
      ]
    },
    {
      "cell_type": "markdown",
      "metadata": {
        "id": "Jj2nJ_8sRQI8",
        "colab_type": "text"
      },
      "source": [
        "## Common PyTorch Modules\n",
        "### Autograd Module\n",
        "PyTorch uses a technique called automatic differentiation. It records all the operations that we are performing and replays it backward to compute gradients. This technique helps us to save time on each epoch as we are calculating the gradients on the forward pass itself.\n",
        "\n",
        "The autograd module helps us to compute the gradients in the forward pass itself which saves a lot of computation time of an epoch\n"
      ]
    },
    {
      "cell_type": "code",
      "metadata": {
        "id": "A84zwqFkRLuL",
        "colab_type": "code",
        "outputId": "3fde1757-b4c4-47d3-a5a9-353c2af28d51",
        "colab": {
          "base_uri": "https://localhost:8080/",
          "height": 50
        }
      },
      "source": [
        "a = torch.ones((2,2),requires_grad=True)\n",
        "a"
      ],
      "execution_count": 41,
      "outputs": [
        {
          "output_type": "execute_result",
          "data": {
            "text/plain": [
              "tensor([[1., 1.],\n",
              "        [1., 1.]], requires_grad=True)"
            ]
          },
          "metadata": {
            "tags": []
          },
          "execution_count": 41
        }
      ]
    },
    {
      "cell_type": "code",
      "metadata": {
        "id": "Chd4SFgeRxum",
        "colab_type": "code",
        "outputId": "fe19ac37-7626-40b1-ce1f-604443aa7437",
        "colab": {
          "base_uri": "https://localhost:8080/",
          "height": 50
        }
      },
      "source": [
        "b = a + 5\n",
        "c = b.mean\n",
        "print(b,c)\n",
        "#c.backward()\n",
        "#print(a.grad)"
      ],
      "execution_count": 42,
      "outputs": [
        {
          "output_type": "stream",
          "text": [
            "tensor([[6., 6.],\n",
            "        [6., 6.]], grad_fn=<AddBackward0>) <built-in method mean of Tensor object at 0x7fc27247f0d8>\n"
          ],
          "name": "stdout"
        }
      ]
    },
    {
      "cell_type": "markdown",
      "metadata": {
        "id": "2QahUlBHT1Jj",
        "colab_type": "text"
      },
      "source": [
        "### Optim Module\n",
        "The Optim module in PyTorch has pre-written codes for most of the optimizers that are used while building a neural network. We just have to import them and then they can be used to build models.\n",
        "\n",
        "Let’s see how we can use an optimizer in PyTorch:"
      ]
    },
    {
      "cell_type": "code",
      "metadata": {
        "id": "2GMoObbwSKeN",
        "colab_type": "code",
        "colab": {}
      },
      "source": [
        "from torch import optim\n",
        "\n",
        "# adam\n",
        "# adam = optim.Adam(model.parameters(),lr = learning_rate)\n",
        "\n",
        "# sgd\n",
        "# sgd = optim.sgd(model.parameters(), lr = learning_rate)"
      ],
      "execution_count": 0,
      "outputs": []
    },
    {
      "cell_type": "markdown",
      "metadata": {
        "id": "bEo6nHYfUnq1",
        "colab_type": "text"
      },
      "source": [
        "Above are the examples to get the ADAM and SGD optimizers. Most of the commonly used optimizers are supported in PyTorch and hence we do not have to write them from scratch. Some of them are:\n",
        "\n",
        "*   SGD   \n",
        "*   Adam\n",
        "*   Adadelta\n",
        "*   Adagrad\n",
        "*   AdamW\n",
        "*   SparseAdam\n",
        "*   Adamax\n",
        "*   ASGD (Averaged Stochastic Gradient Descent)\n",
        "*   RMSprop\n",
        "*   Rprop (resilient backpropagation)\n",
        "\n",
        "\n",
        "\n",
        "\n",
        "\n"
      ]
    },
    {
      "cell_type": "markdown",
      "metadata": {
        "id": "jALGgzF_VhAR",
        "colab_type": "text"
      },
      "source": [
        "# nn Module\n",
        "The autograd module in PyTorch helps us define computation graphs as we proceed in the model. But, just using the autograd module can be low-level when we are dealing with a complex neural network.\n",
        "\n",
        "In those cases, we can make use of the nn module. This defines a set of functions, similar to the layers of a neural network, which takes the input from the previous state and produces an output."
      ]
    },
    {
      "cell_type": "markdown",
      "metadata": {
        "id": "kqsfu-vwW1x4",
        "colab_type": "text"
      },
      "source": [
        "## Building a Neural Network from Scratch in PyTorch"
      ]
    },
    {
      "cell_type": "code",
      "metadata": {
        "id": "CW3rIcH1S4Au",
        "colab_type": "code",
        "outputId": "4c2ae2f6-550a-42cb-8d9e-50b72fa08393",
        "colab": {
          "base_uri": "https://localhost:8080/",
          "height": 134
        }
      },
      "source": [
        "# Input tensor\n",
        "x = torch.Tensor([[1,0,1,0],[1,0,1,1],[0,1,0,1]])\n",
        "\n",
        "#output\n",
        "y = torch.tensor([[1],[1],[0]])\n",
        "\n",
        "print(x,'\\n')\n",
        "print(y)"
      ],
      "execution_count": 44,
      "outputs": [
        {
          "output_type": "stream",
          "text": [
            "tensor([[1., 0., 1., 0.],\n",
            "        [1., 0., 1., 1.],\n",
            "        [0., 1., 0., 1.]]) \n",
            "\n",
            "tensor([[1],\n",
            "        [1],\n",
            "        [0]])\n"
          ],
          "name": "stdout"
        }
      ]
    },
    {
      "cell_type": "markdown",
      "metadata": {
        "id": "XdwcP3fjX71S",
        "colab_type": "text"
      },
      "source": [
        "Next, we will define the sigmoid function which will act as the activation function and the derivative of the sigmoid function which will help us in the backpropagation step:"
      ]
    },
    {
      "cell_type": "code",
      "metadata": {
        "id": "ZMEI85I7XfUD",
        "colab_type": "code",
        "colab": {}
      },
      "source": [
        "#sigmoid function\n",
        "def sigmoid(x):\n",
        "  return 1/(1 + torch.exp(-x))\n",
        "\n",
        "#derivative of sigmoid function\n",
        "def derivatives_sigmoid(x):\n",
        "  return x*(1-x)"
      ],
      "execution_count": 0,
      "outputs": []
    },
    {
      "cell_type": "markdown",
      "metadata": {
        "id": "9nD3XswMYstr",
        "colab_type": "text"
      },
      "source": [
        "Next, initialize the parameters for our model including the number of epochs, learning rate, weights, biases, etc.:"
      ]
    },
    {
      "cell_type": "code",
      "metadata": {
        "id": "O0do5auhYuj8",
        "colab_type": "code",
        "colab": {}
      },
      "source": [
        "#variable initialization\n",
        "epoch = 7000\n",
        "lr = 0.1\n",
        "inputlayernurons = x.shape[1]\n",
        "hiddenlayernurons = 3\n",
        "outputnurons = 1\n",
        "\n",
        "#weight and bias initialization\n",
        "wh = torch.randn(inputlayernurons,hiddenlayernurons).type(torch.FloatTensor)\n",
        "bh = torch.randn(1,hiddenlayernurons).type(torch.FloatTensor)\n",
        "wout = torch.randn(hiddenlayernurons,outputnurons)\n",
        "bout = torch.randn(1,outputnurons)\n"
      ],
      "execution_count": 0,
      "outputs": []
    },
    {
      "cell_type": "markdown",
      "metadata": {
        "id": "aa0aiM4xab9r",
        "colab_type": "text"
      },
      "source": [
        "Here we have randomly initialized the weights and biases using the .randn() function which we saw earlier. Finally, we will create a neural network. I am taking a simple model here just to make things clear. There is a single hidden layer and an input and an output layer in the model:"
      ]
    },
    {
      "cell_type": "code",
      "metadata": {
        "id": "hHZcjxnKaQL-",
        "colab_type": "code",
        "colab": {}
      },
      "source": [
        "for i in range(epoch):\n",
        "  #forward propogation\n",
        "  hidden_layer_input1 = torch.mm(x,wh)\n",
        "  hidden_layer_input = hidden_layer_input1 + bh\n",
        "  hidden_layer_activations = sigmoid(hidden_layer_input)\n",
        "\n",
        "  outputlayer_input1 = torch.mm(hidden_layer_activations,wout)\n",
        "  outputlayer_input = outputlayer_input1 + wout\n",
        "  output = sigmoid(outputlayer_input1)\n",
        "\n",
        "  #backpropogation\n",
        "  E = y - output\n",
        "  slope_output_layer = derivatives_sigmoid(output)\n",
        "  slope_hidden_layer = derivatives_sigmoid(hidden_layer_activations)\n",
        "  d_output = E * slope_output_layer\n",
        "  error_at_hidden_layer = torch.mm(d_output, wout.t())\n",
        "  d_hiddenlayer =  error_at_hidden_layer * slope_hidden_layer\n",
        "  wout += torch.mm(hidden_layer_activations.t(),d_output) * lr\n",
        "  bout += d_output.sum() * lr\n",
        "  wh   += torch.mm(x.t(),d_hiddenlayer) * lr\n",
        "  bh   += d_output.sum() * lr"
      ],
      "execution_count": 0,
      "outputs": []
    },
    {
      "cell_type": "markdown",
      "metadata": {
        "id": "uFuTzPeUiSED",
        "colab_type": "text"
      },
      "source": [
        ""
      ]
    },
    {
      "cell_type": "code",
      "metadata": {
        "id": "IF6nnMVPh0mc",
        "colab_type": "code",
        "outputId": "ce109541-82a1-488a-e7b2-e7da8c130794",
        "colab": {
          "base_uri": "https://localhost:8080/",
          "height": 151
        }
      },
      "source": [
        "print(y,'\\n')\n",
        "print(output,'\\n')"
      ],
      "execution_count": 48,
      "outputs": [
        {
          "output_type": "stream",
          "text": [
            "tensor([[1],\n",
            "        [1],\n",
            "        [0]]) \n",
            "\n",
            "tensor([[0.9647],\n",
            "        [0.9770],\n",
            "        [0.0314]]) \n",
            "\n"
          ],
          "name": "stdout"
        }
      ]
    },
    {
      "cell_type": "markdown",
      "metadata": {
        "id": "txMM7VlKdoSq",
        "colab_type": "text"
      },
      "source": [
        "So, the target is 1, 1, 0 and the predicted values from the model are 0.98, 0.97 and 0.03. Not bad at all!"
      ]
    },
    {
      "cell_type": "code",
      "metadata": {
        "id": "2m25DA6fihGf",
        "colab_type": "code",
        "colab": {}
      },
      "source": [
        "print(train.shape)"
      ],
      "execution_count": 0,
      "outputs": []
    }
  ]
}