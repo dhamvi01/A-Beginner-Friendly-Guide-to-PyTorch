{
  "nbformat": 4,
  "nbformat_minor": 0,
  "metadata": {
    "colab": {
      "name": "GAN.ipynb",
      "provenance": [],
      "collapsed_sections": [],
      "authorship_tag": "ABX9TyOiQSmuOo05DeWpLU7jVCWl",
      "include_colab_link": true
    },
    "kernelspec": {
      "name": "python3",
      "display_name": "Python 3"
    }
  },
  "cells": [
    {
      "cell_type": "markdown",
      "metadata": {
        "id": "view-in-github",
        "colab_type": "text"
      },
      "source": [
        "<a href=\"https://colab.research.google.com/github/dhamvi01/A-Beginner-Friendly-Guide-to-PyTorch/blob/master/GAN.ipynb\" target=\"_parent\"><img src=\"https://colab.research.google.com/assets/colab-badge.svg\" alt=\"Open In Colab\"/></a>"
      ]
    },
    {
      "cell_type": "markdown",
      "metadata": {
        "id": "LprXFxZ-VcQ0"
      },
      "source": [
        "#### Import Libraries"
      ]
    },
    {
      "cell_type": "code",
      "metadata": {
        "id": "3L9xQbZK-qRp"
      },
      "source": [
        "#!pip install tensorflow==1.4.0\n",
        "import tensorflow as tf\n",
        "import numpy as np\n",
        "import matplotlib.pyplot as plt\n",
        "import matplotlib.gridspec as gridspec\n",
        "import os\n",
        "from tensorflow.examples.tutorials.mnist import input_data"
      ],
      "execution_count": 8,
      "outputs": []
    },
    {
      "cell_type": "markdown",
      "metadata": {
        "id": "tsSq_qIgV3pf"
      },
      "source": [
        "#### Sample z from uniform distribution"
      ]
    },
    {
      "cell_type": "code",
      "metadata": {
        "id": "aFmcqiP6-vxg"
      },
      "source": [
        "def sample_Z(m, n):\n",
        "    return np.random.uniform(-1., 1., size=[m, n])\n",
        "\n",
        "def plot(samples):\n",
        "    fig = plt.figure(figsize=(4, 4))\n",
        "    gs = gridspec.GridSpec(4, 4)\n",
        "    gs.update(wspace=0.05, hspace=0.05)\n",
        "\n",
        "    for i, sample in enumerate(samples):\n",
        "        ax = plt.subplot(gs[i])\n",
        "        plt.axis('off')\n",
        "        ax.set_xticklabels([])\n",
        "        ax.set_yticklabels([])\n",
        "        ax.set_aspect('equal')\n",
        "        plt.imshow(sample.reshape(28, 28), cmap='Greys_r')\n",
        "\n",
        "    return fig"
      ],
      "execution_count": 2,
      "outputs": []
    },
    {
      "cell_type": "code",
      "metadata": {
        "id": "2PrY9gqvB6_S"
      },
      "source": [
        "# Input image, for discriminator model.\n",
        "X = tf.placeholder(tf.float32, shape=[None, 784])\n",
        "\n",
        "# Input noise for generator.\n",
        "Z = tf.placeholder(tf.float32, shape=[None, 100])"
      ],
      "execution_count": 3,
      "outputs": []
    },
    {
      "cell_type": "markdown",
      "metadata": {
        "id": "Yy7G9axXV8YR"
      },
      "source": [
        "#### Model building"
      ]
    },
    {
      "cell_type": "code",
      "metadata": {
        "id": "4OnA4ic1B_Kj"
      },
      "source": [
        "def generator(z):\n",
        "    with tf.variable_scope(\"generator\", reuse=tf.AUTO_REUSE):\n",
        "        x = tf.layers.dense(z, 128, activation=tf.nn.relu)\n",
        "        x = tf.layers.dense(z, 784)\n",
        "        x = tf.nn.sigmoid(x)\n",
        "    return x\n",
        "\n",
        "def discriminator(x):\n",
        "    with tf.variable_scope(\"discriminator\", reuse=tf.AUTO_REUSE):\n",
        "        x = tf.layers.dense(x, 128, activation=tf.nn.relu)\n",
        "        x = tf.layers.dense(x, 1)\n",
        "        x = tf.nn.sigmoid(x)\n",
        "    return x"
      ],
      "execution_count": 4,
      "outputs": []
    },
    {
      "cell_type": "code",
      "metadata": {
        "id": "e7X1T8VKCB27"
      },
      "source": [
        "# Generator model\n",
        "G_sample = generator(Z)\n",
        "\n",
        "# Discriminator models\n",
        "D_real = discriminator(X)\n",
        "D_fake = discriminator(G_sample)\n",
        "\n",
        "\n",
        "# Loss function\n",
        "D_loss = -tf.reduce_mean(tf.log(D_real) + tf.log(1. - D_fake))\n",
        "G_loss = -tf.reduce_mean(tf.log(D_fake))\n",
        "\n",
        "# Select parameters\n",
        "disc_vars = [var for var in tf.trainable_variables() if var.name.startswith(\"disc\")]\n",
        "gen_vars = [var for var in tf.trainable_variables() if var.name.startswith(\"gen\")]\n",
        "\n",
        "# Optimizers\n",
        "D_solver = tf.train.AdamOptimizer().minimize(D_loss, var_list=disc_vars)\n",
        "G_solver = tf.train.AdamOptimizer().minimize(G_loss, var_list=gen_vars)"
      ],
      "execution_count": 5,
      "outputs": []
    },
    {
      "cell_type": "markdown",
      "metadata": {
        "id": "AvnoLKnMWF9B"
      },
      "source": [
        "#### Model Training"
      ]
    },
    {
      "cell_type": "code",
      "metadata": {
        "id": "iThZILZLDpL-",
        "outputId": "7ec34c9f-2676-469b-9431-3ffc7193fe11",
        "colab": {
          "base_uri": "https://localhost:8080/"
        }
      },
      "source": [
        "# Batch size\n",
        "mb_size = 128\n",
        "\n",
        "# Dimension of input noise\n",
        "Z_dim = 100\n",
        "\n",
        "mnist = input_data.read_data_sets('../../MNIST_data', one_hot=True)\n",
        "\n",
        "sess = tf.Session()\n",
        "sess.run(tf.global_variables_initializer())\n",
        "\n",
        "if not os.path.exists('out2/'):\n",
        "    os.makedirs('out2/')\n",
        "\n",
        "i = 0\n",
        "\n",
        "for it in range(100000):\n",
        "\n",
        "    # Save generated images every 1000 iterations.\n",
        "    if it % 1000 == 0:\n",
        "        samples = sess.run(G_sample, feed_dict={Z: sample_Z(16, Z_dim)})\n",
        "\n",
        "        fig = plot(samples)\n",
        "        plt.savefig('out2/{}.png'.format(str(i).zfill(3)), bbox_inches='tight')\n",
        "        i += 1\n",
        "        plt.close(fig)\n",
        "\n",
        "\n",
        "    # Get next batch of images. Each batch has mb_size samples.\n",
        "    X_mb, _ = mnist.train.next_batch(mb_size)\n",
        "\n",
        "\n",
        "    # Run disciminator solver\n",
        "    _, D_loss_curr = sess.run([D_solver, D_loss], feed_dict={X: X_mb, Z: sample_Z(mb_size, Z_dim)})\n",
        "\n",
        "    # Run generator solver\n",
        "    _, G_loss_curr = sess.run([G_solver, G_loss], feed_dict={Z: sample_Z(mb_size, Z_dim)})\n",
        "\n",
        "    # Print loss\n",
        "    if it % 1000 == 0:\n",
        "        print('Iter: {}'.format(it))\n",
        "        print('D loss: {:.4}'. format(D_loss_curr))"
      ],
      "execution_count": 6,
      "outputs": [
        {
          "output_type": "stream",
          "text": [
            "Successfully downloaded train-images-idx3-ubyte.gz 9912422 bytes.\n",
            "Extracting ../../MNIST_data/train-images-idx3-ubyte.gz\n",
            "Successfully downloaded train-labels-idx1-ubyte.gz 28881 bytes.\n",
            "Extracting ../../MNIST_data/train-labels-idx1-ubyte.gz\n",
            "Successfully downloaded t10k-images-idx3-ubyte.gz 1648877 bytes.\n",
            "Extracting ../../MNIST_data/t10k-images-idx3-ubyte.gz\n",
            "Successfully downloaded t10k-labels-idx1-ubyte.gz 4542 bytes.\n",
            "Extracting ../../MNIST_data/t10k-labels-idx1-ubyte.gz\n",
            "Iter: 0\n",
            "D loss: 1.173\n",
            "Iter: 1000\n",
            "D loss: 0.0001569\n",
            "Iter: 2000\n",
            "D loss: 0.0003748\n",
            "Iter: 3000\n",
            "D loss: 0.0002149\n",
            "Iter: 4000\n",
            "D loss: 0.0009387\n",
            "Iter: 5000\n",
            "D loss: 0.01255\n",
            "Iter: 6000\n",
            "D loss: 0.03046\n",
            "Iter: 7000\n",
            "D loss: 0.01231\n",
            "Iter: 8000\n",
            "D loss: 0.02083\n",
            "Iter: 9000\n",
            "D loss: 0.06619\n",
            "Iter: 10000\n",
            "D loss: 0.1109\n",
            "Iter: 11000\n",
            "D loss: 0.07137\n",
            "Iter: 12000\n",
            "D loss: 0.1212\n",
            "Iter: 13000\n",
            "D loss: 0.1014\n",
            "Iter: 14000\n",
            "D loss: 0.1284\n",
            "Iter: 15000\n",
            "D loss: 0.1651\n",
            "Iter: 16000\n",
            "D loss: 0.1479\n",
            "Iter: 17000\n",
            "D loss: 0.1388\n",
            "Iter: 18000\n",
            "D loss: 0.1705\n",
            "Iter: 19000\n",
            "D loss: 0.1086\n",
            "Iter: 20000\n",
            "D loss: 0.1255\n",
            "Iter: 21000\n",
            "D loss: 0.1712\n",
            "Iter: 22000\n",
            "D loss: 0.05522\n",
            "Iter: 23000\n",
            "D loss: 0.0841\n",
            "Iter: 24000\n",
            "D loss: 0.1067\n",
            "Iter: 25000\n",
            "D loss: 0.06235\n",
            "Iter: 26000\n",
            "D loss: 0.07537\n",
            "Iter: 27000\n",
            "D loss: 0.1206\n",
            "Iter: 28000\n",
            "D loss: 0.05964\n",
            "Iter: 29000\n",
            "D loss: 0.04672\n"
          ],
          "name": "stdout"
        }
      ]
    },
    {
      "cell_type": "code",
      "metadata": {
        "id": "U7819dsIDbco",
        "outputId": "9d7b212f-2ff6-442f-d200-ad991cca9ef2",
        "colab": {
          "base_uri": "https://localhost:8080/",
          "height": 269
        }
      },
      "source": [
        "import matplotlib.pyplot as plt\n",
        "import matplotlib.image as mpimg\n",
        "img = mpimg.imread('out2/077.png')\n",
        "imgplot = plt.imshow(img)\n",
        "plt.show()"
      ],
      "execution_count": 9,
      "outputs": [
        {
          "output_type": "display_data",
          "data": {
            "image/png": "[encoded data removed]",
            "text/plain": [
              "<Figure size 432x288 with 1 Axes>"
            ]
          },
          "metadata": {
            "tags": [],
            "needs_background": "light"
          }
        }
      ]
    },
    {
      "cell_type": "code",
      "metadata": {
        "id": "q1vBRM7CVEnJ"
      },
      "source": [
        ""
      ],
      "execution_count": null,
      "outputs": []
    }
  ]
}